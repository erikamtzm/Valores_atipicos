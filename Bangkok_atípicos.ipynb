{
 "cells": [
  {
   "cell_type": "code",
   "execution_count": 1,
   "metadata": {},
   "outputs": [],
   "source": [
    "import pandas as pd\n",
    "import numpy as np\n",
    "import matplotlib.pyplot as plt "
   ]
  },
  {
   "cell_type": "code",
   "execution_count": 8,
   "metadata": {},
   "outputs": [],
   "source": [
    "#Para trabajar en Google colab\n",
    "# from google.colab import files\n",
    "# files.upload()\n",
    "\n",
    "#Carga desde un archivo .csv sin indice\n",
    "data=pd.read_csv(\"Bangkok_cuantitativas.csv\")\n"
   ]
  },
  {
   "cell_type": "code",
   "execution_count": null,
   "metadata": {},
   "outputs": [],
   "source": [
    "#Verificamos información del DataFrame\n",
    "data.info()"
   ]
  },
  {
   "cell_type": "code",
   "execution_count": null,
   "metadata": {},
   "outputs": [],
   "source": [
    "#Corroboramos valores nulos\n",
    "valores_nulos=data.isnull().sum()\n",
    "valores_nulos"
   ]
  },
  {
   "cell_type": "code",
   "execution_count": 21,
   "metadata": {},
   "outputs": [],
   "source": [
    "#Crear 2 dataframes para poder procesar los outliers\n",
    "# cuantitativas = data.iloc[ : , 1:23 ]\n",
    "# cualitativas= data.iloc[ : , [0] ]\n",
    "#cuantitativas = data.iloc[ : , 5,6,12,13,15,16,18:26,28:34,37:43,45]\n",
    "cuantitativas= data.iloc[ : , 0:30 ]\n",
    "\n"
   ]
  },
  {
   "cell_type": "code",
   "execution_count": 40,
   "metadata": {},
   "outputs": [
    {
     "data": {
      "image/png": "[encoded data removed]",
      "text/plain": [
       "<Figure size 1500x800 with 1 Axes>"
      ]
     },
     "metadata": {},
     "output_type": "display_data"
    }
   ],
   "source": [
    "#Realizamos diagrama de caja o bigote de cada columna del dataframe\n",
    "fig = plt.figure(figsize =(15, 8))\n",
    "cuantitativas['price'].plot(kind='box', vert=False)\n",
    "#CORREGIR cuantitativas.plot(['panaderia'], kind='box', vert=False)\n",
    "plt.title(\"Valores Atípicos del Dataframe\")\n",
    "plt.show() #dibujamos el diagrama"
   ]
  },
  {
   "cell_type": "markdown",
   "metadata": {},
   "source": [
    "**PROCEDIMIENTO \"DESVIACIÓN ESTÁNDAR\" PARA ELIMINAR OUTLIERS EN DATAFRAME**"
   ]
  },
  {
   "cell_type": "code",
   "execution_count": null,
   "metadata": {},
   "outputs": [],
   "source": [
    "#Método aplicando desviación estandar. Encuentro los valores extremos\n",
    "y=cuantitativas\n",
    "Limite_Superior= y.mean() + 3*y.std()\n",
    "Limite_Inferior= y.mean() - 3*y.std()\n",
    "print(\"Límite superior permitido\", Limite_Superior)\n",
    "print(\"Límite inferior permitido\", Limite_Inferior)\n"
   ]
  },
  {
   "cell_type": "code",
   "execution_count": null,
   "metadata": {},
   "outputs": [],
   "source": [
    "#Obtenemos datos y los outliers se convierten en nulos en el DataFrame\n",
    "data3= cuantitativas[(y<=Limite_Superior)&(y>=Limite_Inferior)]\n",
    "data3"
   ]
  },
  {
   "cell_type": "code",
   "execution_count": null,
   "metadata": {},
   "outputs": [],
   "source": [
    "#Corroboramos valores nulos del dataframe4\n",
    "valores_nulos=data3.isnull().sum()\n",
    "valores_nulos"
   ]
  },
  {
   "cell_type": "code",
   "execution_count": null,
   "metadata": {},
   "outputs": [],
   "source": [
    "#Reemplazamos valores atípicos (nulos) del dataframe con \"mean\"\n",
    "#Realizamos una copia del dataframe\n",
    "data_clean=data3.copy()\n",
    "data_clean=data_clean.fillna(round(data3.mean(),1))\n",
    "data_clean"
   ]
  },
  {
   "cell_type": "code",
   "execution_count": null,
   "metadata": {},
   "outputs": [],
   "source": [
    "#Corroboramos valores nulos del dataframe4\n",
    "valores_nulos=data_clean.isnull().sum()\n",
    "valores_nulos"
   ]
  },
  {
   "cell_type": "markdown",
   "metadata": {},
   "source": []
  },
  {
   "cell_type": "markdown",
   "metadata": {},
   "source": [
    "**PROCEDIMIENTO \"CUARTILES\" PARA SUSTITUIR OUTLIERS EN DATAFRAME**"
   ]
  },
  {
   "cell_type": "code",
   "execution_count": null,
   "metadata": {},
   "outputs": [],
   "source": [
    "#Método aplicando Cuartiles. Encuentro cuartiles 0.25 y 0.75\n",
    "y=cuantitativas\n",
    " \n",
    "percentile25=y.quantile(0.25) #Q1\n",
    "percentile75=y.quantile(0.75) #Q3\n",
    "iqr= percentile75 - percentile25\n",
    " \n",
    "Limite_Superior_iqr= percentile75 + 1.5*iqr\n",
    "Limite_Inferior_iqr= percentile25 - 1.5*iqr\n",
    "print(\"Límite superior permitido\", Limite_Superior_iqr)\n",
    "print(\"Límite inferior permitido\", Limite_Inferior_iqr)\n"
   ]
  },
  {
   "cell_type": "code",
   "execution_count": null,
   "metadata": {},
   "outputs": [],
   "source": [
    "#Obtenemos datos limpios del Dataframe\n",
    "data3_iqr= cuantitativas[(y<=Limite_Superior_iqr)&(y>=Limite_Inferior_iqr)]\n",
    "data3_iqr"
   ]
  },
  {
   "cell_type": "code",
   "execution_count": null,
   "metadata": {},
   "outputs": [],
   "source": [
    "#Corroboramos valores nulos del dataframe4\n",
    "valores_nulos=data3_iqr.isnull().sum()\n",
    "valores_nulos"
   ]
  },
  {
   "cell_type": "code",
   "execution_count": null,
   "metadata": {},
   "outputs": [],
   "source": [
    "#Reemplazamos valores atípicos (nulos) del dataframe con \"mean\"\n",
    "#Realizamos una copia del dataframe\n",
    "data4_iqr=data3_iqr.copy()\n",
    "data4_iqr=data4_iqr.fillna(round(data3_iqr.mean(),1))\n",
    "data4_iqr"
   ]
  },
  {
   "cell_type": "code",
   "execution_count": null,
   "metadata": {},
   "outputs": [],
   "source": [
    "#Corroboramos valores nulos del dataframe4_iqr\n",
    "valores_nulos=data4_iqr.isnull().sum()\n",
    "valores_nulos"
   ]
  },
  {
   "cell_type": "code",
   "execution_count": null,
   "metadata": {},
   "outputs": [],
   "source": [
    "# Unimos el dataframe cuantitativo limpio con el dataframe cualitativo\n",
    " \n",
    "Datos_limpios = pd.concat([cualitativas, data4_iqr], axis=1)\n",
    "Datos_limpios"
   ]
  },
  {
   "cell_type": "code",
   "execution_count": 26,
   "metadata": {},
   "outputs": [
    {
     "data": {
      "text/plain": [
       "np.int64(0)"
      ]
     },
     "execution_count": 26,
     "metadata": {},
     "output_type": "execute_result"
    }
   ],
   "source": [
    "#Corroboramos valores nulos del dataframe LIMPIO\n",
    "valores_nulos=Datos_limpios.isnull().sum().sum()\n",
    "valores_nulos"
   ]
  },
  {
   "cell_type": "code",
   "execution_count": 27,
   "metadata": {},
   "outputs": [],
   "source": [
    "#Convertir DataFrame a CSV\n",
    "Datos_limpios.to_csv(\"Datos_limpios.csv\")"
   ]
  },
  {
   "cell_type": "code",
   "execution_count": null,
   "metadata": {},
   "outputs": [],
   "source": [
    "# from google.colab import files\n",
    "# "
   ]
  }
 ],
 "metadata": {
  "kernelspec": {
   "display_name": "Python 3",
   "language": "python",
   "name": "python3"
  },
  "language_info": {
   "codemirror_mode": {
    "name": "ipython",
    "version": 3
   },
   "file_extension": ".py",
   "mimetype": "text/x-python",
   "name": "python",
   "nbconvert_exporter": "python",
   "pygments_lexer": "ipython3",
   "version": "3.13.1"
  }
 },
 "nbformat": 4,
 "nbformat_minor": 2
}
